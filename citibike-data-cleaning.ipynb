{
 "cells": [
  {
   "cell_type": "code",
   "execution_count": 1,
   "metadata": {},
   "outputs": [],
   "source": [
    "import pandas as pd\n",
    "import numpy as np"
   ]
  },
  {
   "cell_type": "markdown",
   "metadata": {},
   "source": [
    "### Bring in 6-month CSVs clean"
   ]
  },
  {
   "cell_type": "code",
   "execution_count": 67,
   "metadata": {},
   "outputs": [],
   "source": [
    "# Last 6 months of 2019\n",
    "d_1 = \"resources/data/202005-citibike-tripdata.csv\"\n",
    "d_2 = \"resources/data/201908-citibike-tripdata.csv\"\n",
    "d_3 = \"resources/data/201909-citibike-tripdata.csv\"\n",
    "d_4 = \"resources/data/201910-citibike-tripdata.csv\"\n",
    "d_5= \"resources/data/201911-citibike-tripdata.csv\"\n",
    "d_6 = \"resources/data/201912-citibike-tripdata.csv\"\n",
    "\n",
    "# Read File and store into Pandas data frame\n",
    "# resource: https://stackoverflow.com/questions/30620323/merge-two-files-in-python-pandas\n",
    "frames = [pd.read_csv(d_1), pd.read_csv(d_2), pd.read_csv(d_3), pd.read_csv(d_4)\\\n",
    "         ,pd.read_csv(d_5),pd.read_csv(d_6)]\n",
    "\n",
    "combined_df = pd.concat(frames,ignore_index=True)"
   ]
  },
  {
   "cell_type": "code",
   "execution_count": 5,
   "metadata": {},
   "outputs": [
    {
     "name": "stdout",
     "output_type": "stream",
     "text": [
      "<class 'pandas.core.frame.DataFrame'>\n",
      "RangeIndex: 11496679 entries, 0 to 11496678\n",
      "Data columns (total 15 columns):\n",
      " #   Column                   Dtype  \n",
      "---  ------                   -----  \n",
      " 0   tripduration             int64  \n",
      " 1   starttime                object \n",
      " 2   stoptime                 object \n",
      " 3   start station id         float64\n",
      " 4   start station name       object \n",
      " 5   start station latitude   float64\n",
      " 6   start station longitude  float64\n",
      " 7   end station id           float64\n",
      " 8   end station name         object \n",
      " 9   end station latitude     float64\n",
      " 10  end station longitude    float64\n",
      " 11  bikeid                   int64  \n",
      " 12  usertype                 object \n",
      " 13  birth year               int64  \n",
      " 14  gender                   int64  \n",
      "dtypes: float64(6), int64(4), object(5)\n",
      "memory usage: 1.3+ GB\n"
     ]
    }
   ],
   "source": [
    "combined_df.info()"
   ]
  },
  {
   "cell_type": "markdown",
   "metadata": {},
   "source": [
    "### Aggregated data on Bike Trips on each hour of the day"
   ]
  },
  {
   "cell_type": "code",
   "execution_count": 69,
   "metadata": {},
   "outputs": [],
   "source": [
    "#Run the agg. on the big-data set\n",
    "# COUNT OF BIKE TRIPS ON EACH HOUR OF THE DAY\n",
    "combined_df['starttime'] = combined_df['starttime'].astype('datetime64[ns]')\n",
    "# print(test_df.starttime.dt.hour.head(100))\n",
    "\n",
    "combined_df['datehour'] = combined_df['starttime'].dt.hour\n",
    "trip_combined = combined_df.groupby(by=[\"datehour\"])[\"start station id\"].count().reset_index(name='count_of_bike_trips')\n",
    "\n",
    "#export to csv file located at the bottom - \"hourday_triptotalsYYYY-MMM-MMM.csv\""
   ]
  },
  {
   "cell_type": "code",
   "execution_count": null,
   "metadata": {},
   "outputs": [],
   "source": [
    "# #test station count agg. on frames = [pd.read_csv(data_201907)\n",
    "# test_df = pd.read_csv(data_201907)\n",
    "# sample_df = test_df.head(1000)\n",
    "# popular_stations = sample_df.groupby(by=[\"start station id\"])[\"usertype\"].count().reset_index(name='total_trips')\n",
    "# popular_stations"
   ]
  },
  {
   "cell_type": "markdown",
   "metadata": {},
   "source": [
    "### Aggregated data on Most Popular Start & End Stations"
   ]
  },
  {
   "cell_type": "code",
   "execution_count": null,
   "metadata": {},
   "outputs": [],
   "source": [
    "#Run the agg. on the big-data set\n",
    "# AGG. of MOST POPULAR START STATIONS\n",
    "popular_stations = combined_df.groupby(by=[\"start station id\"])[\"usertype\"].count().reset_index(name='total_trips')\n",
    "popular_stations.astype(np.float64)\n",
    "\n",
    "#export to csv file located at the bottom - \"popularstart_triptotalsYYYY-MMM-MMM.csv\""
   ]
  },
  {
   "cell_type": "code",
   "execution_count": null,
   "metadata": {},
   "outputs": [],
   "source": [
    "#Run the agg. on the big-data set\n",
    "# AGG. of MOST POPULAR END STATIONS\n",
    "end_stations = combined_df.groupby(by=[\"end station id\"])[\"usertype\"].count().reset_index(name='total_trips')\n",
    "\n",
    "end_stations = end_stations[end_stations[\"end station id\"].notnull()]\n",
    "end_stations.astype(np.float64)\n",
    "\n",
    "#export to csv file located at the bottom - \"popularend_triptotalsYYYY-MMM-MMM.csv\""
   ]
  },
  {
   "cell_type": "markdown",
   "metadata": {},
   "source": [
    "### Aggregated data on Bike Usage on each hour of the data"
   ]
  },
  {
   "cell_type": "code",
   "execution_count": 70,
   "metadata": {},
   "outputs": [],
   "source": [
    "#Run the agg. on the big-data set\n",
    "# AGG. of BIKE ID USEAGE\n",
    "bike_hour_total_sec = combined_df.groupby(by=[\"datehour\",\"bikeid\"])[\"tripduration\"].sum().reset_index(name='total_seconds_used')\n",
    "\n",
    "# total_td[\"total_mins_used\"] =  (total_td[\"total_seconds_used\"] / 60)\n",
    "# total_td = total_td.astype(np.int64)\n",
    "\n",
    "# export to csv file located at the bottom - \"bikewear_YYYY-MMM-MMM.csv\""
   ]
  },
  {
   "cell_type": "markdown",
   "metadata": {},
   "source": [
    "### Aggregated data on Bike Users"
   ]
  },
  {
   "cell_type": "code",
   "execution_count": 72,
   "metadata": {},
   "outputs": [
    {
     "data": {
      "text/html": [
       "<div>\n",
       "<style scoped>\n",
       "    .dataframe tbody tr th:only-of-type {\n",
       "        vertical-align: middle;\n",
       "    }\n",
       "\n",
       "    .dataframe tbody tr th {\n",
       "        vertical-align: top;\n",
       "    }\n",
       "\n",
       "    .dataframe thead th {\n",
       "        text-align: right;\n",
       "    }\n",
       "</style>\n",
       "<table border=\"1\" class=\"dataframe\">\n",
       "  <thead>\n",
       "    <tr style=\"text-align: right;\">\n",
       "      <th></th>\n",
       "      <th>gender</th>\n",
       "      <th>gender_count</th>\n",
       "    </tr>\n",
       "  </thead>\n",
       "  <tbody>\n",
       "    <tr>\n",
       "      <th>0</th>\n",
       "      <td>1</td>\n",
       "      <td>7747758</td>\n",
       "    </tr>\n",
       "    <tr>\n",
       "      <th>1</th>\n",
       "      <td>2</td>\n",
       "      <td>2836201</td>\n",
       "    </tr>\n",
       "    <tr>\n",
       "      <th>2</th>\n",
       "      <td>0</td>\n",
       "      <td>912720</td>\n",
       "    </tr>\n",
       "  </tbody>\n",
       "</table>\n",
       "</div>"
      ],
      "text/plain": [
       "   gender  gender_count\n",
       "0       1       7747758\n",
       "1       2       2836201\n",
       "2       0        912720"
      ]
     },
     "execution_count": 72,
     "metadata": {},
     "output_type": "execute_result"
    }
   ],
   "source": [
    "gender_cnt_df = combined_df[\"gender\"].value_counts().reset_index(name=\"gender_count\")\n",
    "gender_cnt_df.rename({'index': 'gender'}, axis=1)\n",
    "\n",
    "# export to csv file located at the bottom - \"gendercount_YYYY-MMM-MMM.csv\""
   ]
  },
  {
   "cell_type": "code",
   "execution_count": 73,
   "metadata": {},
   "outputs": [],
   "source": [
    "usertype_df = combined_df.groupby(by=[\"start station id\",\"usertype\"])[\"tripduration\"].sum().reset_index(name=\"total_seconds_used\")\n",
    "# export to csv file located at the bottom - \"userstation_YYYY-MMM-MMM.csv\""
   ]
  },
  {
   "cell_type": "code",
   "execution_count": 71,
   "metadata": {},
   "outputs": [
    {
     "data": {
      "text/html": [
       "<div>\n",
       "<style scoped>\n",
       "    .dataframe tbody tr th:only-of-type {\n",
       "        vertical-align: middle;\n",
       "    }\n",
       "\n",
       "    .dataframe tbody tr th {\n",
       "        vertical-align: top;\n",
       "    }\n",
       "\n",
       "    .dataframe thead th {\n",
       "        text-align: right;\n",
       "    }\n",
       "</style>\n",
       "<table border=\"1\" class=\"dataframe\">\n",
       "  <thead>\n",
       "    <tr style=\"text-align: right;\">\n",
       "      <th></th>\n",
       "      <th>birth year</th>\n",
       "      <th>usertype</th>\n",
       "      <th>total_seconds_used</th>\n",
       "    </tr>\n",
       "  </thead>\n",
       "  <tbody>\n",
       "    <tr>\n",
       "      <th>0</th>\n",
       "      <td>1874</td>\n",
       "      <td>Subscriber</td>\n",
       "      <td>6175</td>\n",
       "    </tr>\n",
       "    <tr>\n",
       "      <th>1</th>\n",
       "      <td>1880</td>\n",
       "      <td>Customer</td>\n",
       "      <td>702</td>\n",
       "    </tr>\n",
       "    <tr>\n",
       "      <th>2</th>\n",
       "      <td>1885</td>\n",
       "      <td>Customer</td>\n",
       "      <td>3256</td>\n",
       "    </tr>\n",
       "    <tr>\n",
       "      <th>3</th>\n",
       "      <td>1885</td>\n",
       "      <td>Subscriber</td>\n",
       "      <td>169432</td>\n",
       "    </tr>\n",
       "    <tr>\n",
       "      <th>4</th>\n",
       "      <td>1886</td>\n",
       "      <td>Subscriber</td>\n",
       "      <td>131864</td>\n",
       "    </tr>\n",
       "    <tr>\n",
       "      <th>...</th>\n",
       "      <td>...</td>\n",
       "      <td>...</td>\n",
       "      <td>...</td>\n",
       "    </tr>\n",
       "    <tr>\n",
       "      <th>199</th>\n",
       "      <td>2001</td>\n",
       "      <td>Subscriber</td>\n",
       "      <td>17304339</td>\n",
       "    </tr>\n",
       "    <tr>\n",
       "      <th>200</th>\n",
       "      <td>2002</td>\n",
       "      <td>Customer</td>\n",
       "      <td>16577025</td>\n",
       "    </tr>\n",
       "    <tr>\n",
       "      <th>201</th>\n",
       "      <td>2002</td>\n",
       "      <td>Subscriber</td>\n",
       "      <td>7337881</td>\n",
       "    </tr>\n",
       "    <tr>\n",
       "      <th>202</th>\n",
       "      <td>2003</td>\n",
       "      <td>Customer</td>\n",
       "      <td>6118209</td>\n",
       "    </tr>\n",
       "    <tr>\n",
       "      <th>203</th>\n",
       "      <td>2003</td>\n",
       "      <td>Subscriber</td>\n",
       "      <td>6587143</td>\n",
       "    </tr>\n",
       "  </tbody>\n",
       "</table>\n",
       "<p>204 rows × 3 columns</p>\n",
       "</div>"
      ],
      "text/plain": [
       "     birth year    usertype  total_seconds_used\n",
       "0          1874  Subscriber                6175\n",
       "1          1880    Customer                 702\n",
       "2          1885    Customer                3256\n",
       "3          1885  Subscriber              169432\n",
       "4          1886  Subscriber              131864\n",
       "..          ...         ...                 ...\n",
       "199        2001  Subscriber            17304339\n",
       "200        2002    Customer            16577025\n",
       "201        2002  Subscriber             7337881\n",
       "202        2003    Customer             6118209\n",
       "203        2003  Subscriber             6587143\n",
       "\n",
       "[204 rows x 3 columns]"
      ]
     },
     "execution_count": 71,
     "metadata": {},
     "output_type": "execute_result"
    }
   ],
   "source": [
    "user_usage_info = combined_df.groupby(by=[\"birth year\",\"usertype\"])[\"tripduration\"].sum().reset_index(name=\"total_seconds_used\")\n",
    "# user_df_summary.reset_index(inplace=True)\n",
    "#export to csv file located at the bottom - \"user_usage_info_YYYY-MMM-MMM.csv\""
   ]
  },
  {
   "cell_type": "code",
   "execution_count": 65,
   "metadata": {},
   "outputs": [
    {
     "data": {
      "text/html": [
       "<div>\n",
       "<style scoped>\n",
       "    .dataframe tbody tr th:only-of-type {\n",
       "        vertical-align: middle;\n",
       "    }\n",
       "\n",
       "    .dataframe tbody tr th {\n",
       "        vertical-align: top;\n",
       "    }\n",
       "\n",
       "    .dataframe thead th {\n",
       "        text-align: right;\n",
       "    }\n",
       "</style>\n",
       "<table border=\"1\" class=\"dataframe\">\n",
       "  <thead>\n",
       "    <tr style=\"text-align: right;\">\n",
       "      <th></th>\n",
       "      <th>birth year</th>\n",
       "      <th>usertype</th>\n",
       "      <th>total_seconds_used</th>\n",
       "    </tr>\n",
       "  </thead>\n",
       "  <tbody>\n",
       "  </tbody>\n",
       "</table>\n",
       "</div>"
      ],
      "text/plain": [
       "Empty DataFrame\n",
       "Columns: [birth year, usertype, total_seconds_used]\n",
       "Index: []"
      ]
     },
     "execution_count": 65,
     "metadata": {},
     "output_type": "execute_result"
    }
   ],
   "source": [
    "df_null = user_df_summary.loc[user_df_summary['usertype']. isnull()]\n",
    "df_null"
   ]
  },
  {
   "cell_type": "markdown",
   "metadata": {},
   "source": [
    "### CSV Exports"
   ]
  },
  {
   "cell_type": "code",
   "execution_count": null,
   "metadata": {},
   "outputs": [],
   "source": [
    "# #export to csv file - labels\n",
    "# labels = pd.read_csv(d_1)\n",
    "# labels.to_csv('resources/clean_data/july2019.csv', index = False)"
   ]
  },
  {
   "cell_type": "code",
   "execution_count": null,
   "metadata": {},
   "outputs": [],
   "source": [
    "#export to csv file - \"hourday_triptotalsYYYY-MMM-MMM.csv\"\n",
    "trip_combined.to_csv('resources/2020_data/hourday_triptotals2019-jul-dec.csv', index = False)"
   ]
  },
  {
   "cell_type": "code",
   "execution_count": null,
   "metadata": {},
   "outputs": [],
   "source": [
    "#export to csv file - \"popularstart_triptotalsYYYY-MMM-MMM.csv\"\n",
    "popular_stations.to_csv('resources/2020_data/popularstart_triptotals2019-jul-dec.csv', index = False)"
   ]
  },
  {
   "cell_type": "code",
   "execution_count": null,
   "metadata": {},
   "outputs": [],
   "source": [
    "#export to csv file - \"popularend_triptotalsYYYY-MMM-MMM.csv\"\n",
    "end_stations.to_csv('resources/2020_data/popularend_triptotals2019-jul-dec.csv', index = False)"
   ]
  },
  {
   "cell_type": "code",
   "execution_count": 74,
   "metadata": {},
   "outputs": [],
   "source": [
    "# export to csv file - \"bikewear_YYYY-MMM-MMM.csv\"\n",
    "bike_hour_total_sec.to_csv('resources/2020_data/bikewear_2019-jul-dec.csv', index = False)"
   ]
  },
  {
   "cell_type": "code",
   "execution_count": 75,
   "metadata": {},
   "outputs": [],
   "source": [
    "# export to csv file - \"gendercount_YYYY-MMM-MMM.csv\"\n",
    "gender_cnt_df.to_csv('resources/2020_data/gendercount_2019-jul-dec.csv', index = False)"
   ]
  },
  {
   "cell_type": "code",
   "execution_count": 76,
   "metadata": {},
   "outputs": [],
   "source": [
    "# export to csv file - \"userstation_YYYY-MMM-MMM.csv\"\n",
    "usertype_df.to_csv('resources/2020_data/userstation_2019-jul-dec.csv', index = False)"
   ]
  },
  {
   "cell_type": "code",
   "execution_count": 77,
   "metadata": {},
   "outputs": [],
   "source": [
    "#export to csv file - \"user_usage_info_YYYY-MMM-MMM.csv\"\n",
    "user_usage_info.to_csv('resources/2020_data/user_usage_info_2019-jul-dec.csv', index = False)"
   ]
  }
 ],
 "metadata": {
  "kernelspec": {
   "display_name": "Python 3",
   "language": "python",
   "name": "python3"
  },
  "language_info": {
   "codemirror_mode": {
    "name": "ipython",
    "version": 3
   },
   "file_extension": ".py",
   "mimetype": "text/x-python",
   "name": "python",
   "nbconvert_exporter": "python",
   "pygments_lexer": "ipython3",
   "version": "3.6.10"
  }
 },
 "nbformat": 4,
 "nbformat_minor": 4
}
