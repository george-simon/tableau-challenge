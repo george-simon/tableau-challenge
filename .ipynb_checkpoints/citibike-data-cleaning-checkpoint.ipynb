{
 "cells": [
  {
   "cell_type": "code",
   "execution_count": 1,
   "metadata": {},
   "outputs": [],
   "source": [
    "import pandas as pd\n",
    "import numpy as np"
   ]
  },
  {
   "cell_type": "markdown",
   "metadata": {},
   "source": [
    "### Bring in 6-month CSVs clean"
   ]
  },
  {
   "cell_type": "code",
   "execution_count": 2,
   "metadata": {},
   "outputs": [],
   "source": [
    "# Last 6 months of 2019\n",
    "d_1 = \"resources/2020_data/202005-citibike-tripdata.csv\"\n",
    "d_2 = \"resources/2020_data/202006-citibike-tripdata.csv\"\n",
    "d_3 = \"resources/2020_data/202007-citibike-tripdata.csv\"\n",
    "d_4 = \"resources/2020_data/202008-citibike-tripdata.csv\"\n",
    "d_5= \"resources/2020_data/202009-citibike-tripdata.csv\"\n",
    "d_6 = \"resources/2020_data/202010-citibike-tripdata.csv\"\n",
    "\n",
    "# Read File and store into Pandas data frame\n",
    "# resource: https://stackoverflow.com/questions/30620323/merge-two-files-in-python-pandas\n",
    "frames = [pd.read_csv(d_1), pd.read_csv(d_2), pd.read_csv(d_3), pd.read_csv(d_4)\\\n",
    "         ,pd.read_csv(d_5),pd.read_csv(d_6)]\n",
    "\n",
    "combined_df = pd.concat(frames,ignore_index=True)"
   ]
  },
  {
   "cell_type": "code",
   "execution_count": 3,
   "metadata": {},
   "outputs": [
    {
     "name": "stdout",
     "output_type": "stream",
     "text": [
      "<class 'pandas.core.frame.DataFrame'>\n",
      "RangeIndex: 12542579 entries, 0 to 12542578\n",
      "Data columns (total 15 columns):\n",
      " #   Column                   Dtype  \n",
      "---  ------                   -----  \n",
      " 0   tripduration             int64  \n",
      " 1   starttime                object \n",
      " 2   stoptime                 object \n",
      " 3   start station id         int64  \n",
      " 4   start station name       object \n",
      " 5   start station latitude   float64\n",
      " 6   start station longitude  float64\n",
      " 7   end station id           int64  \n",
      " 8   end station name         object \n",
      " 9   end station latitude     float64\n",
      " 10  end station longitude    float64\n",
      " 11  bikeid                   int64  \n",
      " 12  usertype                 object \n",
      " 13  birth year               int64  \n",
      " 14  gender                   int64  \n",
      "dtypes: float64(4), int64(6), object(5)\n",
      "memory usage: 1.4+ GB\n"
     ]
    }
   ],
   "source": [
    "combined_df.info()"
   ]
  },
  {
   "cell_type": "markdown",
   "metadata": {},
   "source": [
    "### Aggregated data on Bike Trips on each hour of the day"
   ]
  },
  {
   "cell_type": "code",
   "execution_count": null,
   "metadata": {},
   "outputs": [],
   "source": [
    "#Run the agg. on the big-data set\n",
    "# COUNT OF BIKE TRIPS ON EACH HOUR OF THE DAY\n",
    "combined_df['starttime'] = combined_df['starttime'].astype('datetime64[ns]')\n",
    "# print(test_df.starttime.dt.hour.head(100))\n",
    "\n",
    "combined_df['datehour'] = combined_df['starttime'].dt.hour\n",
    "trip_combined = combined_df.groupby(by=[\"datehour\"])[\"start station id\"].count().reset_index(name='count_of_bike_trips')\n",
    "\n",
    "#export to csv file located at the bottom - \"hourday_triptotalsYYYY-MMM-MMM.csv\""
   ]
  },
  {
   "cell_type": "code",
   "execution_count": null,
   "metadata": {},
   "outputs": [],
   "source": [
    "# #test station count agg. on frames = [pd.read_csv(data_201907)\n",
    "# test_df = pd.read_csv(data_201907)\n",
    "# sample_df = test_df.head(1000)\n",
    "# popular_stations = sample_df.groupby(by=[\"start station id\"])[\"usertype\"].count().reset_index(name='total_trips')\n",
    "# popular_stations"
   ]
  },
  {
   "cell_type": "markdown",
   "metadata": {},
   "source": [
    "### Aggregated data on Most Popular Start & End Stations"
   ]
  },
  {
   "cell_type": "code",
   "execution_count": null,
   "metadata": {},
   "outputs": [],
   "source": [
    "#Run the agg. on the big-data set\n",
    "# AGG. of MOST POPULAR START STATIONS\n",
    "popular_stations = combined_df.groupby(by=[\"start station id\"])[\"usertype\"].count().reset_index(name='total_trips')\n",
    "popular_stations.astype(np.float64)\n",
    "\n",
    "#export to csv file located at the bottom - \"popularstart_triptotalsYYYY-MMM-MMM.csv\""
   ]
  },
  {
   "cell_type": "code",
   "execution_count": null,
   "metadata": {},
   "outputs": [],
   "source": [
    "#Run the agg. on the big-data set\n",
    "# AGG. of MOST POPULAR END STATIONS\n",
    "end_stations = combined_df.groupby(by=[\"end station id\"])[\"usertype\"].count().reset_index(name='total_trips')\n",
    "\n",
    "end_stations = end_stations[end_stations[\"end station id\"].notnull()]\n",
    "end_stations.astype(np.float64)\n",
    "\n",
    "#export to csv file located at the bottom - \"popularend_triptotalsYYYY-MMM-MMM.csv\""
   ]
  },
  {
   "cell_type": "markdown",
   "metadata": {},
   "source": [
    "### Aggregated data on Bike Usage on each hour of the data"
   ]
  },
  {
   "cell_type": "code",
   "execution_count": null,
   "metadata": {},
   "outputs": [],
   "source": [
    "#Run the agg. on the big-data set\n",
    "# AGG. of BIKE ID USEAGE\n",
    "bike_hour_total_sec = combined_df.groupby(by=[\"datehour\",\"bikeid\"])[\"tripduration\"].sum().reset_index(name='total_seconds_used')\n",
    "\n",
    "# total_td[\"total_mins_used\"] =  (total_td[\"total_seconds_used\"] / 60)\n",
    "# total_td = total_td.astype(np.int64)\n",
    "\n",
    "# export to csv file located at the bottom - \"bikewear_YYYY-MMM-MMM.csv\""
   ]
  },
  {
   "cell_type": "markdown",
   "metadata": {},
   "source": [
    "### Aggregated data on Bike Users"
   ]
  },
  {
   "cell_type": "code",
   "execution_count": null,
   "metadata": {},
   "outputs": [],
   "source": [
    "gender_cnt_df = combined_df[\"gender\"].value_counts().reset_index(name=\"gender_count\")\n",
    "gender_cnt_df.rename({'index': 'gender'}, axis=1)\n",
    "\n",
    "# export to csv file located at the bottom - \"gendercount_YYYY-MMM-MMM.csv\""
   ]
  },
  {
   "cell_type": "code",
   "execution_count": null,
   "metadata": {},
   "outputs": [],
   "source": [
    "usertype_df = combined_df.groupby(by=[\"start station id\",\"usertype\"])[\"tripduration\"].sum().reset_index(name=\"total_seconds_used\")\n",
    "# export to csv file located at the bottom - \"userstation_YYYY-MMM-MMM.csv\""
   ]
  },
  {
   "cell_type": "code",
   "execution_count": null,
   "metadata": {},
   "outputs": [],
   "source": [
    "user_usage_info = combined_df.groupby(by=[\"birth year\",\"usertype\"])[\"tripduration\"].sum().reset_index(name=\"total_seconds_used\")\n",
    "# user_df_summary.reset_index(inplace=True)\n",
    "#export to csv file located at the bottom - \"user_usage_info_YYYY-MMM-MMM.csv\""
   ]
  },
  {
   "cell_type": "code",
   "execution_count": null,
   "metadata": {},
   "outputs": [],
   "source": [
    "df_null = user_df_summary.loc[user_df_summary['usertype']. isnull()]\n",
    "df_null"
   ]
  },
  {
   "cell_type": "markdown",
   "metadata": {},
   "source": [
    "### CSV Exports"
   ]
  },
  {
   "cell_type": "code",
   "execution_count": null,
   "metadata": {},
   "outputs": [],
   "source": [
    "# #export to csv file - labels\n",
    "# labels = pd.read_csv(d_1)\n",
    "# labels.to_csv('resources/clean_data/july2019.csv', index = False)"
   ]
  },
  {
   "cell_type": "code",
   "execution_count": null,
   "metadata": {},
   "outputs": [],
   "source": [
    "#export to csv file - \"hourday_triptotalsYYYY-MMM-MMM.csv\"\n",
    "trip_combined.to_csv('resources/clean_2020/hourday_triptotals2020-may-oct.csv', index = False)"
   ]
  },
  {
   "cell_type": "code",
   "execution_count": null,
   "metadata": {},
   "outputs": [],
   "source": [
    "#export to csv file - \"popularstart_triptotalsYYYY-MMM-MMM.csv\"\n",
    "popular_stations.to_csv('resources/clean_2020/popularstart_triptotals2020-may-oct.csv', index = False)"
   ]
  },
  {
   "cell_type": "code",
   "execution_count": null,
   "metadata": {},
   "outputs": [],
   "source": [
    "#export to csv file - \"popularend_triptotalsYYYY-MMM-MMM.csv\"\n",
    "end_stations.to_csv('resources/clean_2020/popularend_triptotals2020-may-oct.csv', index = False)"
   ]
  },
  {
   "cell_type": "code",
   "execution_count": null,
   "metadata": {},
   "outputs": [],
   "source": [
    "# export to csv file - \"bikewear_YYYY-MMM-MMM.csv\"\n",
    "bike_hour_total_sec.to_csv('resources/clean_2020/bikewear_2020-may-oct.csv', index = False)"
   ]
  },
  {
   "cell_type": "code",
   "execution_count": null,
   "metadata": {},
   "outputs": [],
   "source": [
    "# export to csv file - \"gendercount_YYYY-MMM-MMM.csv\"\n",
    "gender_cnt_df.to_csv('resources/clean_2020/gendercount_2020-may-oct.csv', index = False)"
   ]
  },
  {
   "cell_type": "code",
   "execution_count": null,
   "metadata": {},
   "outputs": [],
   "source": [
    "# export to csv file - \"userstation_YYYY-MMM-MMM.csv\"\n",
    "usertype_df.to_csv('resources/clean_2020/userstation_2020-may-oct.csv', index = False)"
   ]
  },
  {
   "cell_type": "code",
   "execution_count": null,
   "metadata": {},
   "outputs": [],
   "source": [
    "#export to csv file - \"user_usage_info_YYYY-MMM-MMM.csv\"\n",
    "user_usage_info.to_csv('resources/clean_2020/user_usage_info_2020-may-oct.csv', index = False)"
   ]
  }
 ],
 "metadata": {
  "kernelspec": {
   "display_name": "Python 3",
   "language": "python",
   "name": "python3"
  },
  "language_info": {
   "codemirror_mode": {
    "name": "ipython",
    "version": 3
   },
   "file_extension": ".py",
   "mimetype": "text/x-python",
   "name": "python",
   "nbconvert_exporter": "python",
   "pygments_lexer": "ipython3",
   "version": "3.6.10"
  }
 },
 "nbformat": 4,
 "nbformat_minor": 4
}
